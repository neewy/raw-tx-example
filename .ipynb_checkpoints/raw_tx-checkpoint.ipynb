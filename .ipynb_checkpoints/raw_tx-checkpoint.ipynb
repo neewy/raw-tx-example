{
 "cells": [
  {
   "cell_type": "markdown",
   "id": "covered-donna",
   "metadata": {},
   "source": [
    "# Requests"
   ]
  },
  {
   "cell_type": "code",
   "execution_count": 2,
   "id": "everyday-yugoslavia",
   "metadata": {},
   "outputs": [],
   "source": [
    "#Rinkeby testnet address: 0x31B98D14007bDEe637298086988A0bBd31184523\n",
    "#Rinkeby testnet URL: https://faucet.rinkeby.io"
   ]
  },
  {
   "cell_type": "code",
   "execution_count": 13,
   "id": "strong-native",
   "metadata": {},
   "outputs": [],
   "source": [
    "from web3 import Web3\n",
    "w3 = Web3(Web3.HTTPProvider('https://rinkeby.infura.io/v3/98ab5d3047f44c6095c7c8e78bbde24e'))\n",
    "my_address = \"0x74728c0286098e1CA7A1e8d0f4f044d33445701C\"\n",
    "rinkeby_address = '0x31B98D14007bDEe637298086988A0bBd31184523'\n",
    "my_private_key = \"f21536d2cba139ab5936de375a18e66a6e1388bc3ec183e96557bd12428b94b2\""
   ]
  },
  {
   "cell_type": "code",
   "execution_count": 16,
   "id": "extraordinary-nancy",
   "metadata": {},
   "outputs": [
    {
     "data": {
      "text/plain": [
       "HexBytes('0xf86307843b9aca0f8275309431b98d14007bdee637298086988a0bbd3118452364802ca051234b176fa2ccc38494455a67713995fff1802bc7064b273343770b58822f6aa03b4913d6c91119b1f81ffab649206295525a039cffe323b391e5da6f5cc92ef4')"
      ]
     },
     "execution_count": 16,
     "metadata": {},
     "output_type": "execute_result"
    }
   ],
   "source": [
    "signed_txn = w3.eth.account.sign_transaction(dict(\n",
    "    nonce=w3.eth.get_transaction_count(my_address),\n",
    "    gas=30000,\n",
    "    to=rinkeby_address,\n",
    "    value=100,\n",
    "    chainId=4,\n",
    "    gasPrice = w3.eth.gasPrice\n",
    "  ),\n",
    "  my_private_key,\n",
    ")\n",
    "signed_txn.rawTransaction"
   ]
  },
  {
   "cell_type": "code",
   "execution_count": null,
   "id": "indoor-traffic",
   "metadata": {},
   "outputs": [],
   "source": [
    "w3.eth.send_raw_transaction(signed_txn.rawTransaction)\n",
    "#0x8efef2d28bac39005e55d14c4bfb98186a42007643b3b734e84fbfa8e18f3fa2"
   ]
  },
  {
   "cell_type": "code",
   "execution_count": 15,
   "id": "relative-iceland",
   "metadata": {},
   "outputs": [
    {
     "data": {
      "text/plain": [
       "AttributeDict({'blockHash': HexBytes('0xd914ae285a3cefa783cf9747cb2a2e3b92fbcd6cb7705a8a83d1241cf84422b1'),\n",
       " 'blockNumber': 9784064,\n",
       " 'from': '0x74728c0286098e1CA7A1e8d0f4f044d33445701C',\n",
       " 'gas': 30000,\n",
       " 'gasPrice': 1000000015,\n",
       " 'hash': HexBytes('0x8efef2d28bac39005e55d14c4bfb98186a42007643b3b734e84fbfa8e18f3fa2'),\n",
       " 'input': '0x',\n",
       " 'nonce': 6,\n",
       " 'r': HexBytes('0x8518bf45a69be1063dc2a94614819731dfa87007ca34365e923bf67e3661a5dc'),\n",
       " 's': HexBytes('0x503978cedd8f47160a6c1d4316ddfaefae02a39f19ae69c426e769ced7f3bcb5'),\n",
       " 'to': '0x31B98D14007bDEe637298086988A0bBd31184523',\n",
       " 'transactionIndex': 39,\n",
       " 'type': '0x0',\n",
       " 'v': 43,\n",
       " 'value': 100})"
      ]
     },
     "execution_count": 15,
     "metadata": {},
     "output_type": "execute_result"
    }
   ],
   "source": [
    "w3.eth.get_transaction('0x8efef2d28bac39005e55d14c4bfb98186a42007643b3b734e84fbfa8e18f3fa2')"
   ]
  },
  {
   "cell_type": "markdown",
   "id": "compact-spank",
   "metadata": {},
   "source": [
    "```curl https://rinkeby.infura.io/v3/98ab5d3047f44c6095c7c8e78bbde24e \\\n",
    "-X POST \\\n",
    "-H \"Content-Type: application/json\" \\\n",
    "-d '{\"jsonrpc\":\"2.0\",\"method\":\"eth_sendRawTransaction\",\"params\":[\"0xf86307843b9aca0f8275309431b98d14007bdee637298086988a0bbd3118452364802ca051234b176fa2ccc38494455a67713995fff1802bc7064b273343770b58822f6aa03b4913d6c91119b1f81ffab649206295525a039cffe323b391e5da6f5cc92ef4\"],\"id\":4}'\n",
    "```"
   ]
  }
 ],
 "metadata": {
  "kernelspec": {
   "display_name": "Python 3",
   "language": "python",
   "name": "python3"
  },
  "language_info": {
   "codemirror_mode": {
    "name": "ipython",
    "version": 3
   },
   "file_extension": ".py",
   "mimetype": "text/x-python",
   "name": "python",
   "nbconvert_exporter": "python",
   "pygments_lexer": "ipython3",
   "version": "3.7.10"
  }
 },
 "nbformat": 4,
 "nbformat_minor": 5
}
